{
    "cells": [
        {
            "cell_type": "markdown",
            "metadata": {},
            "source": "## Part 2: Web scraping data of population and demographic data for NYC from Wikipedia"
        },
        {
            "cell_type": "markdown",
            "metadata": {},
            "source": "#### POPULATION DATA\nWeb scrapping of Population data from wikipedia page - https://en.wikipedia.org/wiki/New_York_City"
        },
        {
            "cell_type": "markdown",
            "metadata": {},
            "source": "First, we shall download all the packages as needed."
        },
        {
            "cell_type": "code",
            "execution_count": 14,
            "metadata": {},
            "outputs": [
                {
                    "name": "stdout",
                    "output_type": "stream",
                    "text": "Requirement already satisfied: geopy in /opt/conda/envs/Python-3.7-main/lib/python3.7/site-packages (2.0.0)\nRequirement already satisfied: geographiclib<2,>=1.49 in /opt/conda/envs/Python-3.7-main/lib/python3.7/site-packages (from geopy) (1.50)\nRequirement already satisfied: folium in /opt/conda/envs/Python-3.7-main/lib/python3.7/site-packages (0.11.0)\nRequirement already satisfied: numpy in /opt/conda/envs/Python-3.7-main/lib/python3.7/site-packages (from folium) (1.18.5)\nRequirement already satisfied: requests in /opt/conda/envs/Python-3.7-main/lib/python3.7/site-packages (from folium) (2.24.0)\nRequirement already satisfied: branca>=0.3.0 in /opt/conda/envs/Python-3.7-main/lib/python3.7/site-packages (from folium) (0.4.1)\nRequirement already satisfied: jinja2>=2.9 in /opt/conda/envs/Python-3.7-main/lib/python3.7/site-packages (from folium) (2.11.2)\nRequirement already satisfied: urllib3!=1.25.0,!=1.25.1,<1.26,>=1.21.1 in /opt/conda/envs/Python-3.7-main/lib/python3.7/site-packages (from requests->folium) (1.25.9)\nRequirement already satisfied: certifi>=2017.4.17 in /opt/conda/envs/Python-3.7-main/lib/python3.7/site-packages (from requests->folium) (2020.12.5)\nRequirement already satisfied: idna<3,>=2.5 in /opt/conda/envs/Python-3.7-main/lib/python3.7/site-packages (from requests->folium) (2.9)\nRequirement already satisfied: chardet<4,>=3.0.2 in /opt/conda/envs/Python-3.7-main/lib/python3.7/site-packages (from requests->folium) (3.0.4)\nRequirement already satisfied: MarkupSafe>=0.23 in /opt/conda/envs/Python-3.7-main/lib/python3.7/site-packages (from jinja2>=2.9->folium) (1.1.1)\nLibraries imported\n"
                }
            ],
            "source": "!pip install geopy\n!pip install folium\nimport folium\nimport numpy as np\nimport pandas as pd\nimport requests\nimport json\nimport matplotlib.cm as cm\nimport matplotlib.colors as colors\nimport matplotlib.pyplot as plt\n\nfrom pandas.io.json import json_normalize\nfrom geopy.geocoders import Nominatim\n\nfrom bs4 import BeautifulSoup\n\nimport csv\n\npd.set_option('display.max_columns', None)\npd.set_option('display.max_rows', None)\n\nprint('Libraries imported')"
        },
        {
            "cell_type": "markdown",
            "metadata": {},
            "source": "Web scraping the data from Wikipedia using Beautiful Soup"
        },
        {
            "cell_type": "code",
            "execution_count": 15,
            "metadata": {},
            "outputs": [],
            "source": "website_url = requests.get('https://en.wikipedia.org/wiki/Demographics_of_New_York_City').text\nsoup = BeautifulSoup(website_url,'lxml')\ntable = soup.find('table',{'class':'wikitable sortable'})\n#print(soup.prettify())\n\nheaders = [header.text for header in table.find_all('th')]\n\ntable_rows = table.find_all('tr')        \nrows = []\nfor row in table_rows:\n   td = row.find_all('td')\n   row = [row.text for row in td]\n   rows.append(row)\n\nwith open('BON2_POPULATION1.csv', 'w') as f:\n   writer = csv.writer(f)\n   writer.writerow(headers)\n   writer.writerows(row for row in rows if row)"
        },
        {
            "cell_type": "markdown",
            "metadata": {},
            "source": "Load data from CSV"
        },
        {
            "cell_type": "code",
            "execution_count": 16,
            "metadata": {},
            "outputs": [
                {
                    "name": "stdout",
                    "output_type": "stream",
                    "text": "Data downloaded!\n"
                }
            ],
            "source": "Pop_data=pd.read_csv('BON2_POPULATION1.csv')\nPop_data.drop(Pop_data.columns[[7,8,9,10,11]], axis=1,inplace=True)\nprint('Data downloaded!')"
        },
        {
            "cell_type": "markdown",
            "metadata": {},
            "source": "Removing white spaces"
        },
        {
            "cell_type": "code",
            "execution_count": 17,
            "metadata": {},
            "outputs": [
                {
                    "data": {
                        "text/html": "<div>\n<style scoped>\n    .dataframe tbody tr th:only-of-type {\n        vertical-align: middle;\n    }\n\n    .dataframe tbody tr th {\n        vertical-align: top;\n    }\n\n    .dataframe thead th {\n        text-align: right;\n    }\n</style>\n<table border=\"1\" class=\"dataframe\">\n  <thead>\n    <tr style=\"text-align: right;\">\n      <th></th>\n      <th>NewYorkCitysfiveboroughsvte\\n</th>\n      <th>Jurisdiction\\n</th>\n      <th>Population\\n</th>\n      <th>GrossDomesticProduct\\n</th>\n      <th>Landarea\\n</th>\n      <th>Density\\n</th>\n      <th>persons_sq_mi</th>\n      <th>squarekm</th>\n      <th>persons/mi2</th>\n      <th>persons/km2\\n</th>\n    </tr>\n  </thead>\n  <tbody>\n    <tr>\n      <th>0</th>\n      <td>The Bronx\\n</td>\n      <td>\\n  Bronx\\n</td>\n      <td>1,418,207\\n</td>\n      <td>42.695\\n</td>\n      <td>30,100\\n</td>\n      <td>42.10\\n</td>\n      <td>109.04\\n</td>\n      <td>NaN</td>\n      <td>NaN</td>\n      <td>NaN</td>\n    </tr>\n    <tr>\n      <th>1</th>\n      <td>Brooklyn\\n</td>\n      <td>\\n  Kings\\n</td>\n      <td>2,559,903\\n</td>\n      <td>91.559\\n</td>\n      <td>35,800\\n</td>\n      <td>70.82\\n</td>\n      <td>183.42\\n</td>\n      <td>NaN</td>\n      <td>NaN</td>\n      <td>NaN</td>\n    </tr>\n    <tr>\n      <th>2</th>\n      <td>Manhattan\\n</td>\n      <td>\\n  New York\\n</td>\n      <td>1,628,706\\n</td>\n      <td>600.244\\n</td>\n      <td>368,500\\n</td>\n      <td>22.83\\n</td>\n      <td>59.13\\n</td>\n      <td>NaN</td>\n      <td>NaN</td>\n      <td>NaN</td>\n    </tr>\n    <tr>\n      <th>3</th>\n      <td>Queens\\n</td>\n      <td>\\n   Queens\\n</td>\n      <td>2,253,858\\n</td>\n      <td>93.310\\n</td>\n      <td>41,400\\n</td>\n      <td>108.53\\n</td>\n      <td>281.09\\n</td>\n      <td>NaN</td>\n      <td>NaN</td>\n      <td>NaN</td>\n    </tr>\n    <tr>\n      <th>4</th>\n      <td>Staten Island\\n</td>\n      <td>\\n   Richmond\\n</td>\n      <td>476,143\\n</td>\n      <td>14.514\\n</td>\n      <td>30,500\\n</td>\n      <td>58.37\\n</td>\n      <td>151.18\\n</td>\n      <td>NaN</td>\n      <td>NaN</td>\n      <td>NaN</td>\n    </tr>\n    <tr>\n      <th>5</th>\n      <td>City of New York</td>\n      <td>8,336,817</td>\n      <td>842.343</td>\n      <td>101,000</td>\n      <td>302.64</td>\n      <td>783.83</td>\n      <td>27,547</td>\n      <td>NaN</td>\n      <td>NaN</td>\n      <td>NaN</td>\n    </tr>\n    <tr>\n      <th>6</th>\n      <td>State of New York</td>\n      <td>19,453,561</td>\n      <td>1,731.910</td>\n      <td>89,000</td>\n      <td>47,126.40</td>\n      <td>122,056.82</td>\n      <td>412</td>\n      <td>NaN</td>\n      <td>NaN</td>\n      <td>NaN</td>\n    </tr>\n    <tr>\n      <th>7</th>\n      <td>Sources:[12][13][14] and see individual boroug...</td>\n      <td>NaN</td>\n      <td>NaN</td>\n      <td>NaN</td>\n      <td>NaN</td>\n      <td>NaN</td>\n      <td>NaN</td>\n      <td>NaN</td>\n      <td>NaN</td>\n      <td>NaN</td>\n    </tr>\n  </tbody>\n</table>\n</div>",
                        "text/plain": "                       NewYorkCitysfiveboroughsvte\\n   Jurisdiction\\n  \\\n0                                        The Bronx\\n      \\n  Bronx\\n   \n1                                         Brooklyn\\n      \\n  Kings\\n   \n2                                        Manhattan\\n   \\n  New York\\n   \n3                                           Queens\\n    \\n   Queens\\n   \n4                                    Staten Island\\n  \\n   Richmond\\n   \n5                                   City of New York        8,336,817   \n6                                  State of New York       19,453,561   \n7  Sources:[12][13][14] and see individual boroug...              NaN   \n\n  Population\\n GrossDomesticProduct\\n Landarea\\n   Density\\n persons_sq_mi  \\\n0  1,418,207\\n               42.695\\n   30,100\\n     42.10\\n      109.04\\n   \n1  2,559,903\\n               91.559\\n   35,800\\n     70.82\\n      183.42\\n   \n2  1,628,706\\n              600.244\\n  368,500\\n     22.83\\n       59.13\\n   \n3  2,253,858\\n               93.310\\n   41,400\\n    108.53\\n      281.09\\n   \n4    476,143\\n               14.514\\n   30,500\\n     58.37\\n      151.18\\n   \n5      842.343                101,000     302.64      783.83        27,547   \n6    1,731.910                 89,000  47,126.40  122,056.82           412   \n7          NaN                    NaN        NaN         NaN           NaN   \n\n   squarekm  persons/mi2  persons/km2\\n  \n0       NaN          NaN            NaN  \n1       NaN          NaN            NaN  \n2       NaN          NaN            NaN  \n3       NaN          NaN            NaN  \n4       NaN          NaN            NaN  \n5       NaN          NaN            NaN  \n6       NaN          NaN            NaN  \n7       NaN          NaN            NaN  "
                    },
                    "execution_count": 17,
                    "metadata": {},
                    "output_type": "execute_result"
                }
            ],
            "source": "Pop_data.columns = Pop_data.columns.str.replace(' ', '')\nPop_data.columns = Pop_data.columns.str.replace('\\'','')\nPop_data.rename(columns={'Borough':'persons_sq_mi','County':'persons_sq_km'}, inplace=True)\nPop_data"
        },
        {
            "cell_type": "code",
            "execution_count": 18,
            "metadata": {},
            "outputs": [
                {
                    "data": {
                        "text/html": "<div>\n<style scoped>\n    .dataframe tbody tr th:only-of-type {\n        vertical-align: middle;\n    }\n\n    .dataframe tbody tr th {\n        vertical-align: top;\n    }\n\n    .dataframe thead th {\n        text-align: right;\n    }\n</style>\n<table border=\"1\" class=\"dataframe\">\n  <thead>\n    <tr style=\"text-align: right;\">\n      <th></th>\n      <th>NewYorkCitysfiveboroughsvte\\n</th>\n      <th>Jurisdiction\\n</th>\n      <th>Population\\n</th>\n      <th>Landarea\\n</th>\n      <th>Density\\n</th>\n      <th>persons_sq_mi</th>\n    </tr>\n  </thead>\n  <tbody>\n    <tr>\n      <th>0</th>\n      <td>The Bronx\\n</td>\n      <td>\\n  Bronx\\n</td>\n      <td>1,418,207\\n</td>\n      <td>30,100\\n</td>\n      <td>42.10\\n</td>\n      <td>109.04\\n</td>\n    </tr>\n    <tr>\n      <th>1</th>\n      <td>Brooklyn\\n</td>\n      <td>\\n  Kings\\n</td>\n      <td>2,559,903\\n</td>\n      <td>35,800\\n</td>\n      <td>70.82\\n</td>\n      <td>183.42\\n</td>\n    </tr>\n    <tr>\n      <th>2</th>\n      <td>Manhattan\\n</td>\n      <td>\\n  New York\\n</td>\n      <td>1,628,706\\n</td>\n      <td>368,500\\n</td>\n      <td>22.83\\n</td>\n      <td>59.13\\n</td>\n    </tr>\n    <tr>\n      <th>3</th>\n      <td>Queens\\n</td>\n      <td>\\n   Queens\\n</td>\n      <td>2,253,858\\n</td>\n      <td>41,400\\n</td>\n      <td>108.53\\n</td>\n      <td>281.09\\n</td>\n    </tr>\n    <tr>\n      <th>4</th>\n      <td>Staten Island\\n</td>\n      <td>\\n   Richmond\\n</td>\n      <td>476,143\\n</td>\n      <td>30,500\\n</td>\n      <td>58.37\\n</td>\n      <td>151.18\\n</td>\n    </tr>\n    <tr>\n      <th>5</th>\n      <td>City of New York</td>\n      <td>8,336,817</td>\n      <td>842.343</td>\n      <td>302.64</td>\n      <td>783.83</td>\n      <td>27,547</td>\n    </tr>\n    <tr>\n      <th>6</th>\n      <td>State of New York</td>\n      <td>19,453,561</td>\n      <td>1,731.910</td>\n      <td>47,126.40</td>\n      <td>122,056.82</td>\n      <td>412</td>\n    </tr>\n    <tr>\n      <th>7</th>\n      <td>Sources:[12][13][14] and see individual boroug...</td>\n      <td>NaN</td>\n      <td>NaN</td>\n      <td>NaN</td>\n      <td>NaN</td>\n      <td>NaN</td>\n    </tr>\n  </tbody>\n</table>\n</div>",
                        "text/plain": "                       NewYorkCitysfiveboroughsvte\\n   Jurisdiction\\n  \\\n0                                        The Bronx\\n      \\n  Bronx\\n   \n1                                         Brooklyn\\n      \\n  Kings\\n   \n2                                        Manhattan\\n   \\n  New York\\n   \n3                                           Queens\\n    \\n   Queens\\n   \n4                                    Staten Island\\n  \\n   Richmond\\n   \n5                                   City of New York        8,336,817   \n6                                  State of New York       19,453,561   \n7  Sources:[12][13][14] and see individual boroug...              NaN   \n\n  Population\\n Landarea\\n   Density\\n persons_sq_mi  \n0  1,418,207\\n   30,100\\n     42.10\\n      109.04\\n  \n1  2,559,903\\n   35,800\\n     70.82\\n      183.42\\n  \n2  1,628,706\\n  368,500\\n     22.83\\n       59.13\\n  \n3  2,253,858\\n   41,400\\n    108.53\\n      281.09\\n  \n4    476,143\\n   30,500\\n     58.37\\n      151.18\\n  \n5      842.343     302.64      783.83        27,547  \n6    1,731.910  47,126.40  122,056.82           412  \n7          NaN        NaN         NaN           NaN  "
                    },
                    "execution_count": 18,
                    "metadata": {},
                    "output_type": "execute_result"
                }
            ],
            "source": "Pop_data.drop(columns= {'GrossDomesticProduct\\n', 'squarekm', 'persons/mi2', 'persons/km2\\n'}, inplace= True)\nPop_data"
        },
        {
            "cell_type": "code",
            "execution_count": 19,
            "metadata": {},
            "outputs": [
                {
                    "data": {
                        "text/html": "<div>\n<style scoped>\n    .dataframe tbody tr th:only-of-type {\n        vertical-align: middle;\n    }\n\n    .dataframe tbody tr th {\n        vertical-align: top;\n    }\n\n    .dataframe thead th {\n        text-align: right;\n    }\n</style>\n<table border=\"1\" class=\"dataframe\">\n  <thead>\n    <tr style=\"text-align: right;\">\n      <th></th>\n      <th>Borough</th>\n      <th>County</th>\n      <th>Estimate_2017</th>\n      <th>square_miles</th>\n      <th>square_km</th>\n      <th>persons_sq_mi</th>\n    </tr>\n  </thead>\n  <tbody>\n    <tr>\n      <th>0</th>\n      <td>The Bronx\\n</td>\n      <td>\\n  Bronx\\n</td>\n      <td>1,418,207\\n</td>\n      <td>30,100\\n</td>\n      <td>42.10\\n</td>\n      <td>109.04\\n</td>\n    </tr>\n    <tr>\n      <th>1</th>\n      <td>Brooklyn\\n</td>\n      <td>\\n  Kings\\n</td>\n      <td>2,559,903\\n</td>\n      <td>35,800\\n</td>\n      <td>70.82\\n</td>\n      <td>183.42\\n</td>\n    </tr>\n    <tr>\n      <th>2</th>\n      <td>Manhattan\\n</td>\n      <td>\\n  New York\\n</td>\n      <td>1,628,706\\n</td>\n      <td>368,500\\n</td>\n      <td>22.83\\n</td>\n      <td>59.13\\n</td>\n    </tr>\n    <tr>\n      <th>3</th>\n      <td>Queens\\n</td>\n      <td>\\n   Queens\\n</td>\n      <td>2,253,858\\n</td>\n      <td>41,400\\n</td>\n      <td>108.53\\n</td>\n      <td>281.09\\n</td>\n    </tr>\n    <tr>\n      <th>4</th>\n      <td>Staten Island\\n</td>\n      <td>\\n   Richmond\\n</td>\n      <td>476,143\\n</td>\n      <td>30,500\\n</td>\n      <td>58.37\\n</td>\n      <td>151.18\\n</td>\n    </tr>\n    <tr>\n      <th>5</th>\n      <td>City of New York</td>\n      <td>8,336,817</td>\n      <td>842.343</td>\n      <td>302.64</td>\n      <td>783.83</td>\n      <td>27,547</td>\n    </tr>\n    <tr>\n      <th>6</th>\n      <td>State of New York</td>\n      <td>19,453,561</td>\n      <td>1,731.910</td>\n      <td>47,126.40</td>\n      <td>122,056.82</td>\n      <td>412</td>\n    </tr>\n    <tr>\n      <th>7</th>\n      <td>Sources:[12][13][14] and see individual boroug...</td>\n      <td>NaN</td>\n      <td>NaN</td>\n      <td>NaN</td>\n      <td>NaN</td>\n      <td>NaN</td>\n    </tr>\n  </tbody>\n</table>\n</div>",
                        "text/plain": "                                             Borough           County  \\\n0                                        The Bronx\\n      \\n  Bronx\\n   \n1                                         Brooklyn\\n      \\n  Kings\\n   \n2                                        Manhattan\\n   \\n  New York\\n   \n3                                           Queens\\n    \\n   Queens\\n   \n4                                    Staten Island\\n  \\n   Richmond\\n   \n5                                   City of New York        8,336,817   \n6                                  State of New York       19,453,561   \n7  Sources:[12][13][14] and see individual boroug...              NaN   \n\n  Estimate_2017 square_miles   square_km persons_sq_mi  \n0   1,418,207\\n     30,100\\n     42.10\\n      109.04\\n  \n1   2,559,903\\n     35,800\\n     70.82\\n      183.42\\n  \n2   1,628,706\\n    368,500\\n     22.83\\n       59.13\\n  \n3   2,253,858\\n     41,400\\n    108.53\\n      281.09\\n  \n4     476,143\\n     30,500\\n     58.37\\n      151.18\\n  \n5       842.343       302.64      783.83        27,547  \n6     1,731.910    47,126.40  122,056.82           412  \n7           NaN          NaN         NaN           NaN  "
                    },
                    "execution_count": 19,
                    "metadata": {},
                    "output_type": "execute_result"
                }
            ],
            "source": "\nPop_data.rename(columns = {'NewYorkCitysfiveboroughsvte\\n' : 'Borough',\n                   'Jurisdiction\\n':'County',\n                   'Population\\n':'Estimate_2017', \n                   'Landarea\\n':'square_miles',\n                    'Density\\n':'square_km'}, inplace=True)\nPop_data\n"
        },
        {
            "cell_type": "markdown",
            "metadata": {},
            "source": "Shift data in the last two rows"
        },
        {
            "cell_type": "code",
            "execution_count": 20,
            "metadata": {},
            "outputs": [
                {
                    "data": {
                        "text/html": "<div>\n<style scoped>\n    .dataframe tbody tr th:only-of-type {\n        vertical-align: middle;\n    }\n\n    .dataframe tbody tr th {\n        vertical-align: top;\n    }\n\n    .dataframe thead th {\n        text-align: right;\n    }\n</style>\n<table border=\"1\" class=\"dataframe\">\n  <thead>\n    <tr style=\"text-align: right;\">\n      <th></th>\n      <th>Borough</th>\n      <th>County</th>\n      <th>Estimate_2017</th>\n      <th>square_miles</th>\n      <th>square_km</th>\n      <th>persons_sq_mi</th>\n    </tr>\n  </thead>\n  <tbody>\n    <tr>\n      <th>0</th>\n      <td>The Bronx\\n</td>\n      <td>\\n  Bronx\\n</td>\n      <td>1,418,207\\n</td>\n      <td>30,100\\n</td>\n      <td>42.10\\n</td>\n      <td>109.04\\n</td>\n    </tr>\n    <tr>\n      <th>1</th>\n      <td>Brooklyn\\n</td>\n      <td>\\n  Kings\\n</td>\n      <td>2,559,903\\n</td>\n      <td>35,800\\n</td>\n      <td>70.82\\n</td>\n      <td>183.42\\n</td>\n    </tr>\n    <tr>\n      <th>2</th>\n      <td>Manhattan\\n</td>\n      <td>\\n  New York\\n</td>\n      <td>1,628,706\\n</td>\n      <td>368,500\\n</td>\n      <td>22.83\\n</td>\n      <td>59.13\\n</td>\n    </tr>\n    <tr>\n      <th>3</th>\n      <td>Queens\\n</td>\n      <td>\\n   Queens\\n</td>\n      <td>2,253,858\\n</td>\n      <td>41,400\\n</td>\n      <td>108.53\\n</td>\n      <td>281.09\\n</td>\n    </tr>\n    <tr>\n      <th>4</th>\n      <td>Staten Island\\n</td>\n      <td>\\n   Richmond\\n</td>\n      <td>476,143\\n</td>\n      <td>30,500\\n</td>\n      <td>58.37\\n</td>\n      <td>151.18\\n</td>\n    </tr>\n    <tr>\n      <th>5</th>\n      <td>NaN</td>\n      <td>City of New York</td>\n      <td>8,336,817</td>\n      <td>842.343</td>\n      <td>302.64</td>\n      <td>783.83</td>\n    </tr>\n    <tr>\n      <th>6</th>\n      <td>NaN</td>\n      <td>State of New York</td>\n      <td>19,453,561</td>\n      <td>1,731.910</td>\n      <td>47,126.40</td>\n      <td>122,056.82</td>\n    </tr>\n    <tr>\n      <th>7</th>\n      <td>NaN</td>\n      <td>Sources:[12][13][14] and see individual boroug...</td>\n      <td>NaN</td>\n      <td>NaN</td>\n      <td>NaN</td>\n      <td>NaN</td>\n    </tr>\n  </tbody>\n</table>\n</div>",
                        "text/plain": "           Borough                                             County  \\\n0      The Bronx\\n                                        \\n  Bronx\\n   \n1       Brooklyn\\n                                        \\n  Kings\\n   \n2      Manhattan\\n                                     \\n  New York\\n   \n3         Queens\\n                                      \\n   Queens\\n   \n4  Staten Island\\n                                    \\n   Richmond\\n   \n5              NaN                                   City of New York   \n6              NaN                                  State of New York   \n7              NaN  Sources:[12][13][14] and see individual boroug...   \n\n  Estimate_2017 square_miles  square_km persons_sq_mi  \n0   1,418,207\\n     30,100\\n    42.10\\n      109.04\\n  \n1   2,559,903\\n     35,800\\n    70.82\\n      183.42\\n  \n2   1,628,706\\n    368,500\\n    22.83\\n       59.13\\n  \n3   2,253,858\\n     41,400\\n   108.53\\n      281.09\\n  \n4     476,143\\n     30,500\\n    58.37\\n      151.18\\n  \n5     8,336,817      842.343     302.64        783.83  \n6    19,453,561    1,731.910  47,126.40    122,056.82  \n7           NaN          NaN        NaN           NaN  "
                    },
                    "execution_count": 20,
                    "metadata": {},
                    "output_type": "execute_result"
                }
            ],
            "source": "Pop_data.loc[5:,['square_km','persons_sq_mi']] = Pop_data.loc[2:,['square_km','persons_sq_mi']].shift(1,axis=1)\nPop_data.loc[5:,['square_miles','square_km']] = Pop_data.loc[2:,['square_miles','square_km']].shift(1,axis=1)\nPop_data.loc[5:,['Estimate_2017','square_miles']] = Pop_data.loc[2:,['Estimate_2017','square_miles']].shift(1,axis=1)\nPop_data.loc[5:,['County','Estimate_2017']] = Pop_data.loc[2:,['County','Estimate_2017']].shift(1,axis=1)\nPop_data.loc[5:,['Borough','County']] = Pop_data.loc[2:,['Borough','County']].shift(1,axis=1)\nPop_data"
        },
        {
            "cell_type": "code",
            "execution_count": 21,
            "metadata": {},
            "outputs": [
                {
                    "data": {
                        "text/html": "<div>\n<style scoped>\n    .dataframe tbody tr th:only-of-type {\n        vertical-align: middle;\n    }\n\n    .dataframe tbody tr th {\n        vertical-align: top;\n    }\n\n    .dataframe thead th {\n        text-align: right;\n    }\n</style>\n<table border=\"1\" class=\"dataframe\">\n  <thead>\n    <tr style=\"text-align: right;\">\n      <th></th>\n      <th>Borough</th>\n      <th>County</th>\n      <th>Estimate_2017</th>\n      <th>square_miles</th>\n      <th>square_km</th>\n      <th>persons_sq_mi</th>\n    </tr>\n  </thead>\n  <tbody>\n    <tr>\n      <th>0</th>\n      <td>The Bronx</td>\n      <td>Bronx</td>\n      <td>1,418,207</td>\n      <td>30,100</td>\n      <td>42.10</td>\n      <td>109.04</td>\n    </tr>\n    <tr>\n      <th>1</th>\n      <td>Brooklyn</td>\n      <td>Kings</td>\n      <td>2,559,903</td>\n      <td>35,800</td>\n      <td>70.82</td>\n      <td>183.42</td>\n    </tr>\n    <tr>\n      <th>2</th>\n      <td>Manhattan</td>\n      <td>New York</td>\n      <td>1,628,706</td>\n      <td>368,500</td>\n      <td>22.83</td>\n      <td>59.13</td>\n    </tr>\n    <tr>\n      <th>3</th>\n      <td>Queens</td>\n      <td>Queens</td>\n      <td>2,253,858</td>\n      <td>41,400</td>\n      <td>108.53</td>\n      <td>281.09</td>\n    </tr>\n    <tr>\n      <th>4</th>\n      <td>Staten Island</td>\n      <td>Richmond</td>\n      <td>476,143</td>\n      <td>30,500</td>\n      <td>58.37</td>\n      <td>151.18</td>\n    </tr>\n    <tr>\n      <th>5</th>\n      <td>NaN</td>\n      <td>City of New York</td>\n      <td>8,336,817</td>\n      <td>842.343</td>\n      <td>302.64</td>\n      <td>783.83</td>\n    </tr>\n    <tr>\n      <th>6</th>\n      <td>NaN</td>\n      <td>State of New York</td>\n      <td>19,453,561</td>\n      <td>1,731.910</td>\n      <td>47,126.40</td>\n      <td>122,056.82</td>\n    </tr>\n    <tr>\n      <th>7</th>\n      <td>NaN</td>\n      <td>Sources:[12][13][14] and see individual boroug...</td>\n      <td>NaN</td>\n      <td>NaN</td>\n      <td>NaN</td>\n      <td>NaN</td>\n    </tr>\n  </tbody>\n</table>\n</div>",
                        "text/plain": "         Borough                                             County  \\\n0      The Bronx                                              Bronx   \n1       Brooklyn                                              Kings   \n2      Manhattan                                           New York   \n3         Queens                                             Queens   \n4  Staten Island                                           Richmond   \n5            NaN                                   City of New York   \n6            NaN                                  State of New York   \n7            NaN  Sources:[12][13][14] and see individual boroug...   \n\n  Estimate_2017 square_miles  square_km persons_sq_mi  \n0     1,418,207       30,100      42.10        109.04  \n1     2,559,903       35,800      70.82        183.42  \n2     1,628,706      368,500      22.83         59.13  \n3     2,253,858       41,400     108.53        281.09  \n4       476,143       30,500      58.37        151.18  \n5     8,336,817      842.343     302.64        783.83  \n6    19,453,561    1,731.910  47,126.40    122,056.82  \n7           NaN          NaN        NaN           NaN  "
                    },
                    "execution_count": 21,
                    "metadata": {},
                    "output_type": "execute_result"
                }
            ],
            "source": "Pop_data['Borough']=Pop_data['Borough'].replace(to_replace='\\n', value='', regex=True)\nPop_data['County']=Pop_data['County'].replace(to_replace='\\n', value='', regex=True)\nPop_data['Estimate_2017']=Pop_data['Estimate_2017'].replace(to_replace='\\n', value='', regex=True)\nPop_data['square_miles']=Pop_data['square_miles'].replace(to_replace='\\n', value='', regex=True)\nPop_data['square_km']=Pop_data['square_km'].replace(to_replace='\\n', value='', regex=True)\nPop_data['persons_sq_mi']=Pop_data['persons_sq_mi'].replace(to_replace='\\n', value='', regex=True)\nPop_data"
        },
        {
            "cell_type": "markdown",
            "metadata": {},
            "source": "Removing NaN and dropping the last row"
        },
        {
            "cell_type": "code",
            "execution_count": 22,
            "metadata": {},
            "outputs": [
                {
                    "data": {
                        "text/html": "<div>\n<style scoped>\n    .dataframe tbody tr th:only-of-type {\n        vertical-align: middle;\n    }\n\n    .dataframe tbody tr th {\n        vertical-align: top;\n    }\n\n    .dataframe thead th {\n        text-align: right;\n    }\n</style>\n<table border=\"1\" class=\"dataframe\">\n  <thead>\n    <tr style=\"text-align: right;\">\n      <th></th>\n      <th>Borough</th>\n      <th>County</th>\n      <th>Estimate_2017</th>\n      <th>square_miles</th>\n      <th>square_km</th>\n      <th>persons_sq_mi</th>\n    </tr>\n  </thead>\n  <tbody>\n    <tr>\n      <th>0</th>\n      <td>The Bronx</td>\n      <td>Bronx</td>\n      <td>1,418,207</td>\n      <td>30,100</td>\n      <td>42.10</td>\n      <td>109.04</td>\n    </tr>\n    <tr>\n      <th>1</th>\n      <td>Brooklyn</td>\n      <td>Kings</td>\n      <td>2,559,903</td>\n      <td>35,800</td>\n      <td>70.82</td>\n      <td>183.42</td>\n    </tr>\n    <tr>\n      <th>2</th>\n      <td>Manhattan</td>\n      <td>New York</td>\n      <td>1,628,706</td>\n      <td>368,500</td>\n      <td>22.83</td>\n      <td>59.13</td>\n    </tr>\n    <tr>\n      <th>3</th>\n      <td>Queens</td>\n      <td>Queens</td>\n      <td>2,253,858</td>\n      <td>41,400</td>\n      <td>108.53</td>\n      <td>281.09</td>\n    </tr>\n    <tr>\n      <th>4</th>\n      <td>Staten Island</td>\n      <td>Richmond</td>\n      <td>476,143</td>\n      <td>30,500</td>\n      <td>58.37</td>\n      <td>151.18</td>\n    </tr>\n    <tr>\n      <th>5</th>\n      <td></td>\n      <td>City of New York</td>\n      <td>8,336,817</td>\n      <td>842.343</td>\n      <td>302.64</td>\n      <td>783.83</td>\n    </tr>\n    <tr>\n      <th>6</th>\n      <td></td>\n      <td>State of New York</td>\n      <td>19,453,561</td>\n      <td>1,731.910</td>\n      <td>47,126.40</td>\n      <td>122,056.82</td>\n    </tr>\n    <tr>\n      <th>7</th>\n      <td></td>\n      <td>Sources:[12][13][14] and see individual boroug...</td>\n      <td></td>\n      <td></td>\n      <td></td>\n      <td></td>\n    </tr>\n  </tbody>\n</table>\n</div>",
                        "text/plain": "         Borough                                             County  \\\n0      The Bronx                                              Bronx   \n1       Brooklyn                                              Kings   \n2      Manhattan                                           New York   \n3         Queens                                             Queens   \n4  Staten Island                                           Richmond   \n5                                                  City of New York   \n6                                                 State of New York   \n7                 Sources:[12][13][14] and see individual boroug...   \n\n  Estimate_2017 square_miles  square_km persons_sq_mi  \n0     1,418,207       30,100      42.10        109.04  \n1     2,559,903       35,800      70.82        183.42  \n2     1,628,706      368,500      22.83         59.13  \n3     2,253,858       41,400     108.53        281.09  \n4       476,143       30,500      58.37        151.18  \n5     8,336,817      842.343     302.64        783.83  \n6    19,453,561    1,731.910  47,126.40    122,056.82  \n7                                                      "
                    },
                    "execution_count": 22,
                    "metadata": {},
                    "output_type": "execute_result"
                }
            ],
            "source": "Pop_data = Pop_data.fillna('')\nPop_data"
        },
        {
            "cell_type": "code",
            "execution_count": 24,
            "metadata": {},
            "outputs": [
                {
                    "data": {
                        "text/html": "<div>\n<style scoped>\n    .dataframe tbody tr th:only-of-type {\n        vertical-align: middle;\n    }\n\n    .dataframe tbody tr th {\n        vertical-align: top;\n    }\n\n    .dataframe thead th {\n        text-align: right;\n    }\n</style>\n<table border=\"1\" class=\"dataframe\">\n  <thead>\n    <tr style=\"text-align: right;\">\n      <th></th>\n      <th>Borough</th>\n      <th>County</th>\n      <th>Estimate_2017</th>\n      <th>square_miles</th>\n      <th>square_km</th>\n      <th>persons_sq_mi</th>\n    </tr>\n  </thead>\n  <tbody>\n    <tr>\n      <th>0</th>\n      <td>The Bronx</td>\n      <td>Bronx</td>\n      <td>1,418,207</td>\n      <td>30,100</td>\n      <td>42.10</td>\n      <td>109.04</td>\n    </tr>\n    <tr>\n      <th>1</th>\n      <td>Brooklyn</td>\n      <td>Kings</td>\n      <td>2,559,903</td>\n      <td>35,800</td>\n      <td>70.82</td>\n      <td>183.42</td>\n    </tr>\n    <tr>\n      <th>2</th>\n      <td>Manhattan</td>\n      <td>New York</td>\n      <td>1,628,706</td>\n      <td>368,500</td>\n      <td>22.83</td>\n      <td>59.13</td>\n    </tr>\n    <tr>\n      <th>3</th>\n      <td>Queens</td>\n      <td>Queens</td>\n      <td>2,253,858</td>\n      <td>41,400</td>\n      <td>108.53</td>\n      <td>281.09</td>\n    </tr>\n    <tr>\n      <th>4</th>\n      <td>Staten Island</td>\n      <td>Richmond</td>\n      <td>476,143</td>\n      <td>30,500</td>\n      <td>58.37</td>\n      <td>151.18</td>\n    </tr>\n    <tr>\n      <th>5</th>\n      <td></td>\n      <td>City of New York</td>\n      <td>8,336,817</td>\n      <td>842.343</td>\n      <td>302.64</td>\n      <td>783.83</td>\n    </tr>\n    <tr>\n      <th>6</th>\n      <td></td>\n      <td>State of New York</td>\n      <td>19,453,561</td>\n      <td>1,731.910</td>\n      <td>47,126.40</td>\n      <td>122,056.82</td>\n    </tr>\n  </tbody>\n</table>\n</div>",
                        "text/plain": "         Borough             County Estimate_2017 square_miles  square_km  \\\n0      The Bronx              Bronx     1,418,207       30,100      42.10   \n1       Brooklyn              Kings     2,559,903       35,800      70.82   \n2      Manhattan           New York     1,628,706      368,500      22.83   \n3         Queens             Queens     2,253,858       41,400     108.53   \n4  Staten Island           Richmond       476,143       30,500      58.37   \n5                  City of New York     8,336,817      842.343     302.64   \n6                 State of New York    19,453,561    1,731.910  47,126.40   \n\n  persons_sq_mi  \n0        109.04  \n1        183.42  \n2         59.13  \n3        281.09  \n4        151.18  \n5        783.83  \n6    122,056.82  "
                    },
                    "execution_count": 24,
                    "metadata": {},
                    "output_type": "execute_result"
                }
            ],
            "source": "Pop_data.drop(7)"
        },
        {
            "cell_type": "code",
            "execution_count": 25,
            "metadata": {},
            "outputs": [],
            "source": "Pop_data.to_csv('BON2_POPULATION.csv',index=False)"
        },
        {
            "cell_type": "markdown",
            "metadata": {},
            "source": "#### DEMOGRAPHICS DATA\n\nWe will web scrap Demographics data from wikipedia page - https://en.wikipedia.org/wiki/New_York_City using Beautiful soup"
        },
        {
            "cell_type": "code",
            "execution_count": 12,
            "metadata": {},
            "outputs": [
                {
                    "data": {
                        "text/html": "<div>\n<style scoped>\n    .dataframe tbody tr th:only-of-type {\n        vertical-align: middle;\n    }\n\n    .dataframe tbody tr th {\n        vertical-align: top;\n    }\n\n    .dataframe thead th {\n        text-align: right;\n    }\n</style>\n<table border=\"1\" class=\"dataframe\">\n  <thead>\n    <tr style=\"text-align: right;\">\n      <th></th>\n      <th>Racial Composition</th>\n      <th>2010</th>\n      <th>1990</th>\n      <th>1970</th>\n      <th>1940</th>\n    </tr>\n  </thead>\n  <tbody>\n    <tr>\n      <th>0</th>\n      <td>White</td>\n      <td>44.00%</td>\n      <td>52.30%</td>\n      <td>76.60%</td>\n      <td>93.60%</td>\n    </tr>\n    <tr>\n      <th>1</th>\n      <td>Non-Hispanic</td>\n      <td>33.30%</td>\n      <td>43.20%</td>\n      <td>62.90%</td>\n      <td>92%</td>\n    </tr>\n    <tr>\n      <th>2</th>\n      <td>Black or African American</td>\n      <td>25.50%</td>\n      <td>28.70%</td>\n      <td>21.10%</td>\n      <td>6.10%</td>\n    </tr>\n    <tr>\n      <th>3</th>\n      <td>Hispanic or Latino</td>\n      <td>28.60%</td>\n      <td>24.40%</td>\n      <td>16.20%</td>\n      <td>1.60%</td>\n    </tr>\n    <tr>\n      <th>4</th>\n      <td>Asian</td>\n      <td>12.70%</td>\n      <td>7.00%</td>\n      <td>1.20%</td>\n      <td>--</td>\n    </tr>\n  </tbody>\n</table>\n</div>",
                        "text/plain": "          Racial Composition    2010    1990    1970    1940\n0                      White  44.00%  52.30%  76.60%  93.60%\n1               Non-Hispanic  33.30%  43.20%  62.90%     92%\n2  Black or African American  25.50%  28.70%  21.10%   6.10%\n3         Hispanic or Latino  28.60%  24.40%  16.20%   1.60%\n4                      Asian  12.70%   7.00%   1.20%      --"
                    },
                    "execution_count": 12,
                    "metadata": {},
                    "output_type": "execute_result"
                }
            ],
            "source": "# The code was removed by Watson Studio for sharing."
        },
        {
            "cell_type": "code",
            "execution_count": 13,
            "metadata": {},
            "outputs": [],
            "source": "demo_data.to_csv('BON2_DEMOGRAPHICS.csv',index=False)"
        }
    ],
    "metadata": {
        "kernelspec": {
            "display_name": "Python 3.7",
            "language": "python",
            "name": "python3"
        },
        "language_info": {
            "codemirror_mode": {
                "name": "ipython",
                "version": 3
            },
            "file_extension": ".py",
            "mimetype": "text/x-python",
            "name": "python",
            "nbconvert_exporter": "python",
            "pygments_lexer": "ipython3",
            "version": "3.7.9"
        }
    },
    "nbformat": 4,
    "nbformat_minor": 1
}